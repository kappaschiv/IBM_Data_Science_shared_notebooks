{
  "metadata": {
    "language_info": {
      "codemirror_mode": {
        "name": "python",
        "version": 3
      },
      "file_extension": ".py",
      "mimetype": "text/x-python",
      "name": "python",
      "nbconvert_exporter": "python",
      "pygments_lexer": "ipython3",
      "version": "3.8"
    },
    "kernelspec": {
      "name": "python",
      "display_name": "Pyolite",
      "language": "python"
    }
  },
  "nbformat_minor": 4,
  "nbformat": 4,
  "cells": [
    {
      "cell_type": "markdown",
      "source": "# My Jupyter Notebook on IBM Watson Studio",
      "metadata": {}
    },
    {
      "cell_type": "markdown",
      "source": "**Andrew Bianco**<br>\nQA Analyst",
      "metadata": {}
    },
    {
      "cell_type": "markdown",
      "source": "*I am interested in Data Science because I work in a tech field, seeing data utilized on a daily basis. I want a to be more involved in where that data goes and how it's interpreted. Eventually I would like to return to the scientific community to assist with research in physical sciences.*",
      "metadata": {}
    },
    {
      "cell_type": "markdown",
      "source": "### The following code is designed to display the integers between 1 and 5",
      "metadata": {}
    },
    {
      "cell_type": "code",
      "source": "for number in range(1,6):\n    print(number)",
      "metadata": {
        "trusted": true
      },
      "execution_count": 3,
      "outputs": [
        {
          "name": "stdout",
          "text": "1\n2\n3\n4\n5\n",
          "output_type": "stream"
        }
      ]
    },
    {
      "cell_type": "markdown",
      "source": "### Cell 6 Markdowns\n- this is a bulleted list\n- this is a second item\n    - this is an indented item\n    \n1. this is a numbered item\n1. this is a numbered item\n    1. this is an indented numberred item\n1. a horizontal bar follows this numbered item\n\n***\n\n__[this is a link to GitHub](http://www.github.com)__\n\n<img src=\"https://github.githubassets.com/images/modules/logos_page/GitHub-Mark.png\" alt=\"This is the permitted usage GitHub logo\" title=\"This is the official permitted usage GitHub logo\" />",
      "metadata": {}
    },
    {
      "cell_type": "code",
      "source": "",
      "metadata": {},
      "execution_count": null,
      "outputs": []
    }
  ]
}